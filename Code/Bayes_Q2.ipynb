{
 "cells": [
  {
   "cell_type": "markdown",
   "metadata": {},
   "source": [
    "## Bayes Classification for Question 2: \n",
    "#### Neutral vs. facial expression classification (for dataset DATA)"
   ]
  },
  {
   "cell_type": "code",
   "execution_count": 1,
   "metadata": {},
   "outputs": [],
   "source": [
    "import numpy as np"
   ]
  },
  {
   "cell_type": "markdown",
   "metadata": {},
   "source": [
    "#### Read and load data"
   ]
  },
  {
   "cell_type": "code",
   "execution_count": 26,
   "metadata": {},
   "outputs": [
    {
     "name": "stdout",
     "output_type": "stream",
     "text": [
      "---------- Data\n",
      "(24, 21, 600)\n",
      "(600, 24, 21)\n",
      "Data shape with neutral and Exp data:  (200, 2, 504)\n",
      "Test Labels: \n",
      "1.0 -1.0 1.0 -1.0 1.0 -1.0 1.0\n"
     ]
    }
   ],
   "source": [
    "from get_train_test_data1 import *\n",
    "\n",
    "# number of points in train data :\n",
    "train_size = 100\n",
    "\n",
    "data_all = GetNeutralvsExpData()\n",
    "data_all = GetTrainTestSplit(data_all,train_size)"
   ]
  },
  {
   "cell_type": "code",
   "execution_count": 27,
   "metadata": {},
   "outputs": [
    {
     "name": "stdout",
     "output_type": "stream",
     "text": [
      "Shapes\n",
      " Train x\t (300, 504)\n",
      " Train y\t (300,)\n",
      " Test x\t (100, 504)\n",
      " Test y\t (100,)\n"
     ]
    }
   ],
   "source": [
    "print('Shapes')\n",
    "print(' Train x\\t',data_all[0].shape)\n",
    "print(' Train y\\t',data_all[1].shape)\n",
    "print(' Test x\\t',data_all[2].shape)\n",
    "print(' Test y\\t',data_all[3].shape)"
   ]
  },
  {
   "cell_type": "code",
   "execution_count": 28,
   "metadata": {},
   "outputs": [
    {
     "name": "stdout",
     "output_type": "stream",
     "text": [
      "150\n"
     ]
    }
   ],
   "source": [
    "a = data_all[0].shape[0]//2\n",
    "print(a)\n",
    "train_bayes = data_all[0].reshape(a,2,data_all[0].shape[1])\n"
   ]
  },
  {
   "cell_type": "code",
   "execution_count": 29,
   "metadata": {},
   "outputs": [],
   "source": [
    "%matplotlib inline\n",
    "import warnings\n",
    "warnings.filterwarnings('ignore')\n",
    "from scipy.io import loadmat\n",
    "import numpy as np\n",
    "from sklearn.metrics import accuracy_score\n",
    "from bayes_classifier import *"
   ]
  },
  {
   "cell_type": "code",
   "execution_count": 6,
   "metadata": {},
   "outputs": [
    {
     "name": "stdout",
     "output_type": "stream",
     "text": [
      "0.55\n"
     ]
    }
   ],
   "source": [
    "# Add noise = 0.1 to avoid singularity whne calculating covariance.\n",
    "classifier = BayesClassifier(0.1)\n",
    "predicted_data1,predicted_data2 = classifier.classify(train_bayes,data_all[2])\n",
    "print(accuracy_score(data_all[1][predicted_data1],data_all[3]))\n"
   ]
  },
  {
   "cell_type": "markdown",
   "metadata": {},
   "source": [
    "## With PCA"
   ]
  },
  {
   "cell_type": "code",
   "execution_count": 6,
   "metadata": {},
   "outputs": [],
   "source": [
    "from pca import *"
   ]
  },
  {
   "cell_type": "code",
   "execution_count": 14,
   "metadata": {},
   "outputs": [
    {
     "name": "stdout",
     "output_type": "stream",
     "text": [
      "Component:  10  Accuraccy:  0.7\n",
      "Component:  30  Accuraccy:  0.5\n",
      "Component:  50  Accuraccy:  0.4\n",
      "Component:  70  Accuraccy:  0.4\n",
      "Component:  85  Accuraccy:  0.3\n",
      "Component:  100  Accuraccy:  0.3\n",
      "Component:  200  Accuraccy:  0.4\n",
      "Component:  250  Accuraccy:  0.4\n"
     ]
    }
   ],
   "source": [
    "# Try with different number of components\n",
    "num_comp = [10,30,50,70,85,100,200,250]\n",
    "train_x = train_bayes\n",
    "test_x = data_all[2]\n",
    "# Resize to 2D:\n",
    "train_x = train_x.reshape(train_x.shape[0]*train_x.shape[1],train_x.shape[2])\n",
    "com_acc = []\n",
    "for num in num_comp:    \n",
    "    pca = PCA(num)\n",
    "    pca.fit(train_x)\n",
    "    train_x_dash = pca.transform(train_x)\n",
    "    # pca = PCA(num)\n",
    "    # pca.fit(test_x)\n",
    "    test_x_dash = pca.transform(test_x)\n",
    "    # print(train_x_dash.shape)\n",
    "    # print(test_x_dash.shape)\n",
    "    train_x_dash = train_x_dash.reshape(a,2,num)\n",
    "\n",
    "    classifier = BayesClassifier(0.1)\n",
    "    predicted_data_pca1,predicted_data_pca2 = classifier.classify(train_x_dash,test_x_dash)\n",
    "    acc = accuracy_score(data_all[1][predicted_data_pca1],data_all[3])\n",
    "    com_acc.append(acc)\n",
    "    print('Component: ',num,' Accuraccy: ',acc)\n",
    "    pass\n"
   ]
  },
  {
   "cell_type": "markdown",
   "metadata": {},
   "source": [
    "## With MDA"
   ]
  },
  {
   "cell_type": "code",
   "execution_count": 16,
   "metadata": {},
   "outputs": [],
   "source": [
    "from mda import *"
   ]
  },
  {
   "cell_type": "code",
   "execution_count": 25,
   "metadata": {},
   "outputs": [
    {
     "name": "stdout",
     "output_type": "stream",
     "text": [
      "10 \t 0.6666666666666666\n",
      "30 \t 0.5\n",
      "50 \t 0.3333333333333333\n",
      "70 \t 0.3333333333333333\n",
      "85 \t 0.3333333333333333\n",
      "100 \t 0.3333333333333333\n",
      "200 \t 0.3333333333333333\n",
      "250 \t 0.3333333333333333\n"
     ]
    }
   ],
   "source": [
    "train_x = train_bayes\n",
    "test_x = data_all[2]\n",
    "num_newdim = [10,30,50,70,85,100,200,250]\n",
    "acc_mda = []\n",
    "for n_dim in num_newdim:\n",
    "    mda_data = MDA(0.9,train_x,test_x,n_dim)\n",
    "    mda_data.get_matA()\n",
    "    train_x_dash = mda_data.transform(train_x)\n",
    "    test_x_dash = mda_data.transform(test_x)\n",
    "\n",
    "    # Add noise = 0.1 to avoid singularity whne calculating covariance.\n",
    "    classifier = BayesClassifier(0.95)\n",
    "    predicted_data_mda1,predicted_data_mda2 = classifier.classify(train_x_dash,test_x_dash)\n",
    "    acc = accuracy_score(data_all[1][predicted_data_mda1],data_all[3])\n",
    "    print(n_dim,'\\t',acc)\n",
    "    acc_mda.append(acc)\n"
   ]
  },
  {
   "cell_type": "code",
   "execution_count": null,
   "metadata": {},
   "outputs": [],
   "source": []
  }
 ],
 "metadata": {
  "kernelspec": {
   "display_name": "Python 3.10.8 64-bit (microsoft store)",
   "language": "python",
   "name": "python3"
  },
  "language_info": {
   "codemirror_mode": {
    "name": "ipython",
    "version": 3
   },
   "file_extension": ".py",
   "mimetype": "text/x-python",
   "name": "python",
   "nbconvert_exporter": "python",
   "pygments_lexer": "ipython3",
   "version": "3.10.8"
  },
  "orig_nbformat": 4,
  "vscode": {
   "interpreter": {
    "hash": "e0a79c76574919354e3ac5f8de62c0c23dfecd089a514de40db9df7886111055"
   }
  }
 },
 "nbformat": 4,
 "nbformat_minor": 2
}
