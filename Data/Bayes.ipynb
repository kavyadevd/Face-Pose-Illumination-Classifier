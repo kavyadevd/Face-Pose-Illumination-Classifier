{
 "cells": [
  {
   "cell_type": "markdown",
   "metadata": {},
   "source": [
    "## Bayes Classifier"
   ]
  },
  {
   "cell_type": "code",
   "execution_count": 3,
   "metadata": {},
   "outputs": [],
   "source": [
    "%matplotlib inline\n",
    "from scipy.io import loadmat\n",
    "import matplotlib.pyplot as plt\n",
    "import numpy as np"
   ]
  },
  {
   "cell_type": "markdown",
   "metadata": {},
   "source": [
    "## Read and load data"
   ]
  },
  {
   "cell_type": "code",
   "execution_count": 26,
   "metadata": {},
   "outputs": [
    {
     "name": "stdout",
     "output_type": "stream",
     "text": [
      "---------- Data\n",
      "(24, 21, 600)\n",
      "(600, 24, 21)\n",
      "(200, 3, 504)\n",
      "---------- Data\n",
      "---------- Pose\n",
      "(48, 40, 13, 68)\n",
      "(68, 13, 48, 40)\n",
      "---------- Pose\n",
      "---------- Illum\n",
      "(1920, 21, 68)\n",
      "(68, 21, 1920)\n",
      "---------- Illum\n"
     ]
    }
   ],
   "source": [
    "def GetAllData():\n",
    "    data_all = {}\n",
    "    # data.mat\n",
    "    # 200 subjects\n",
    "    # 3 faces per subject\n",
    "    # size: 24 x 21\n",
    "    print('-'*10,'Data')\n",
    "    data = loadmat('data.mat')\n",
    "    data = data['face']\n",
    "    print(data.shape)\n",
    "    # LAbel each 200 classes with their index and set as label\n",
    "    labels_data = []\n",
    "    for i in range(data.shape[2]):\n",
    "        labels_data.append('lbl'+str(i+1))\n",
    "\n",
    "    data = np.moveaxis(data, -1, 0)\n",
    "    print(data.shape)\n",
    "    # Separate 3 faces for the 200 subjects\n",
    "    data = data.reshape(200,3,(24*21))\n",
    "    print(data.shape)\n",
    "    data_all['data'] = (data,labels_data)\n",
    "    print('-'*10,'Data')\n",
    "\n",
    "    print('-'*10,'Pose')\n",
    "    # 68 subjects\n",
    "    # 13 images per subject (13 different poses)\n",
    "    # size: 48 x 40\n",
    "    pose = loadmat('pose.mat')\n",
    "    pose = pose['pose']\n",
    "    labels_pose = []\n",
    "    for i in range(pose.shape[3]):\n",
    "        labels_pose.append('lbl'+str(i+1))\n",
    "    print(pose.shape)\n",
    "    pose = np.moveaxis(np.moveaxis(pose,-1,0),-1,1)\n",
    "    print(pose.shape)\n",
    "    data_all['pose'] = (pose,labels_pose)\n",
    "    print('-'*10,'Pose')\n",
    "\n",
    "    print('-'*10,'Illum')\n",
    "    # 68 subjects\n",
    "    # 21 images per subject (21 different illuminations)\n",
    "    # size: 48x40\n",
    "    illum = loadmat('illumination.mat')\n",
    "    illum = illum['illum']\n",
    "    labels_illum = []\n",
    "    print(illum.shape)\n",
    "    for i in range(illum.shape[2]):\n",
    "        labels_illum.append('lbl'+str(i+1))\n",
    "    illum = np.moveaxis(np.moveaxis(illum,-1,0),-1,1)\n",
    "    print(illum.shape)\n",
    "    data_all['illum'] = (illum,labels_illum)\n",
    "    print('-'*10,'Illum')\n",
    "\n",
    "    return data_all\n",
    "\n",
    "\n",
    "data_all = GetAllData()\n"
   ]
  },
  {
   "cell_type": "markdown",
   "metadata": {},
   "source": [
    "## Generate random train and test samples"
   ]
  },
  {
   "cell_type": "code",
   "execution_count": 28,
   "metadata": {},
   "outputs": [],
   "source": [
    "x_train = {}\n",
    "y_train = {}\n",
    "n = [15,15,30]\n",
    "m = [2,7,16]\n",
    "c=0\n",
    "train_test_all = {}  # Format-> Dataset: (TrainX, TrainY, TestX, TestY)\n",
    "# Can test the effect of expressions, illumination variations. \n",
    "# Here we test the effect of illumination for data.mat\n",
    "for k in data_all:\n",
    "    train_datax = data_all[k][0][:,:m[c],:]\n",
    "    train_datay = data_all[k][1]\n",
    "    samples = range(data_all[k][0].shape[0])\n",
    "    # ndarray generated random samples for test data\n",
    "    rand_indexs = np.random.choice(samples, n[c], replace = False)\n",
    "    test_datax = data_all[k][0][rand_indexs,m[c],:]\n",
    "    test_datay = data_all[k][1][rand_indexs]\n",
    "    train_test_all[k] = (train_datax,train_datay,test_datax,test_datay)\n",
    "    c+=1\n",
    "    pass\n",
    "\n",
    "train_test_all"
   ]
  }
 ],
 "metadata": {
  "kernelspec": {
   "display_name": "Python 3.10.8 64-bit (microsoft store)",
   "language": "python",
   "name": "python3"
  },
  "language_info": {
   "codemirror_mode": {
    "name": "ipython",
    "version": 3
   },
   "file_extension": ".py",
   "mimetype": "text/x-python",
   "name": "python",
   "nbconvert_exporter": "python",
   "pygments_lexer": "ipython3",
   "version": "3.10.8"
  },
  "orig_nbformat": 4,
  "vscode": {
   "interpreter": {
    "hash": "e0a79c76574919354e3ac5f8de62c0c23dfecd089a514de40db9df7886111055"
   }
  }
 },
 "nbformat": 4,
 "nbformat_minor": 2
}
